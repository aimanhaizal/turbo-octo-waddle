{
  "cells": [
    {
      "cell_type": "markdown",
      "metadata": {
        "id": "view-in-github",
        "colab_type": "text"
      },
      "source": [
        "<a href=\"https://colab.research.google.com/github/FakeAimanHafiy/turbo-octo-waddle/blob/main/Reddit_API_starter.ipynb\" target=\"_parent\"><img src=\"https://colab.research.google.com/assets/colab-badge.svg\" alt=\"Open In Colab\"/></a>"
      ]
    },
    {
      "cell_type": "markdown",
      "source": [
        "*   Proceed to [reddit.com](https://www.reddit.com/) to create an account (if you do not already have one)\n",
        "*   Create an application - easiest on the [classic interface](https://www.reddit.com/prefs/apps) - and insert the necessary information to generate the keys for authentication\n",
        "*   Once you have created your application on Reddit you can proceed to use the keys generated to query the platform here"
      ],
      "metadata": {
        "id": "dyVhyCt9aeUp"
      }
    },
    {
      "cell_type": "code",
      "execution_count": 1,
      "metadata": {
        "id": "rhYB9GG0X0Kt",
        "colab": {
          "base_uri": "https://localhost:8080/"
        },
        "outputId": "181795a5-d726-402e-ae3b-460635d8a14b"
      },
      "outputs": [
        {
          "output_type": "stream",
          "name": "stdout",
          "text": [
            "Looking in indexes: https://pypi.org/simple, https://us-python.pkg.dev/colab-wheels/public/simple/\n",
            "Collecting praw\n",
            "  Downloading praw-7.7.0-py3-none-any.whl (189 kB)\n",
            "\u001b[2K     \u001b[90m━━━━━━━━━━━━━━━━━━━━━━━━━━━━━━━━━━━━━━━\u001b[0m \u001b[32m189.4/189.4 kB\u001b[0m \u001b[31m7.4 MB/s\u001b[0m eta \u001b[36m0:00:00\u001b[0m\n",
            "\u001b[?25hCollecting prawcore<3,>=2.1 (from praw)\n",
            "  Downloading prawcore-2.3.0-py3-none-any.whl (16 kB)\n",
            "Collecting update-checker>=0.18 (from praw)\n",
            "  Downloading update_checker-0.18.0-py3-none-any.whl (7.0 kB)\n",
            "Requirement already satisfied: websocket-client>=0.54.0 in /usr/local/lib/python3.10/dist-packages (from praw) (1.5.1)\n",
            "Requirement already satisfied: requests<3.0,>=2.6.0 in /usr/local/lib/python3.10/dist-packages (from prawcore<3,>=2.1->praw) (2.27.1)\n",
            "Requirement already satisfied: urllib3<1.27,>=1.21.1 in /usr/local/lib/python3.10/dist-packages (from requests<3.0,>=2.6.0->prawcore<3,>=2.1->praw) (1.26.15)\n",
            "Requirement already satisfied: certifi>=2017.4.17 in /usr/local/lib/python3.10/dist-packages (from requests<3.0,>=2.6.0->prawcore<3,>=2.1->praw) (2022.12.7)\n",
            "Requirement already satisfied: charset-normalizer~=2.0.0 in /usr/local/lib/python3.10/dist-packages (from requests<3.0,>=2.6.0->prawcore<3,>=2.1->praw) (2.0.12)\n",
            "Requirement already satisfied: idna<4,>=2.5 in /usr/local/lib/python3.10/dist-packages (from requests<3.0,>=2.6.0->prawcore<3,>=2.1->praw) (3.4)\n",
            "Installing collected packages: update-checker, prawcore, praw\n",
            "Successfully installed praw-7.7.0 prawcore-2.3.0 update-checker-0.18.0\n"
          ]
        }
      ],
      "source": [
        "# Install and import PRAW\n",
        "!pip install praw\n",
        "import praw"
      ]
    },
    {
      "cell_type": "markdown",
      "source": [
        "niFO2zHEetS4hqpjMasBbA\n",
        "\n",
        "\n",
        "v5jRhQfHfJ3ahU5XdiBmDBWkrhhm_g"
      ],
      "metadata": {
        "id": "bWtPEzmHhbIJ"
      }
    },
    {
      "cell_type": "markdown",
      "metadata": {
        "id": "VRQVhmoMX0Kw"
      },
      "source": [
        "Create a PRAW instance for querying"
      ]
    },
    {
      "cell_type": "code",
      "execution_count": 5,
      "metadata": {
        "id": "b7gYx49YX0Kx"
      },
      "outputs": [],
      "source": [
        "reddit = praw.Reddit(client_id ='niFO2zHEetS4hqpjMasBbA',\n",
        "            client_secret='v5jRhQfHfJ3ahU5XdiBmDBWkrhhm_g',\n",
        "            user_agent='TDS_thingy_for_lab_9_idkfamsquad',\n",
        "            check_for_async=False)"
      ]
    },
    {
      "cell_type": "markdown",
      "source": [
        "Querying reddit for user information and activity"
      ],
      "metadata": {
        "id": "XgC98vmF-PdY"
      }
    },
    {
      "cell_type": "code",
      "source": [
        "# get user profile information (has to be done manually)\n",
        "reddit.redditor('Dkayed9').id#check the id\n",
        "# reddit.redditor('Dkayed9').comment_karma\n",
        "# reddit.redditor('Dkayed9').has_verified_email"
      ],
      "metadata": {
        "id": "PuBPAMkE-O5h",
        "colab": {
          "base_uri": "https://localhost:8080/",
          "height": 35
        },
        "outputId": "dd3a4265-8e9e-4cfe-d6e1-51507e152093"
      },
      "execution_count": 13,
      "outputs": [
        {
          "output_type": "execute_result",
          "data": {
            "text/plain": [
              "'159213'"
            ],
            "application/vnd.google.colaboratory.intrinsic+json": {
              "type": "string"
            }
          },
          "metadata": {},
          "execution_count": 13
        }
      ]
    },
    {
      "cell_type": "code",
      "source": [
        "# get user activity on subreddits \n",
        "posts = list(reddit.redditor('Dkayed9').submissions.new(limit=5))\n",
        "print(posts)\n",
        "\n",
        "for p in posts:\n",
        "  print(p.title)\n",
        "  print(p.selftext)\n",
        "  print(p.num_comments)"
      ],
      "metadata": {
        "id": "7F-_rLOq_7-y"
      },
      "execution_count": null,
      "outputs": []
    },
    {
      "cell_type": "code",
      "source": [
        "# get user activity on subreddits \n",
        "cmnts = list(reddit.redditor('Dkayed9').comments.new(limit=5))\n",
        "print(cmnts)\n",
        "\n",
        "for p in cmnts:\n",
        "  print(\"============================\")\n",
        "  print(p.body)\n",
        "  #print(p.num_comments)"
      ],
      "metadata": {
        "colab": {
          "base_uri": "https://localhost:8080/"
        },
        "id": "LA1VnhCzkgfs",
        "outputId": "54248a70-a53a-4544-8e43-88d1ecb3fc71"
      },
      "execution_count": 21,
      "outputs": [
        {
          "output_type": "stream",
          "name": "stdout",
          "text": [
            "[Comment(id='jlnzvpn'), Comment(id='jka7qz4'), Comment(id='jka7eg9'), Comment(id='jka3ujq'), Comment(id='jka3qeg')]\n",
            "============================\n",
            "Many have a strong belief on what # they think represents \"tier 0\" but I think we can at least agree on: \n",
            "\n",
            "Tier 0 = you must play the deck or play a counter to do well competitively, with close to no in-between. \n",
            "\n",
            "Tracking all Community Tournaments, ones which only abided by the in-game banlist, 50%+ has consistently met the Tier 0 definition, with 60% being too harsh.\n",
            "\n",
            "Asian tournaments in particular have the lowest Tearlament representation within their top cuts.\n",
            "\n",
            "Just for the sake of discussion: The last YCS of \"Tear 0\", with Kashtira being playable, Tear was 52% of the Top 64 and I believe most agree Tear was still considered Tier 0 for that event: https://www.masterduelmeta.com/articles/news/february-2023/ycs-lyon\n",
            "============================\n",
            "thread about ban: https://reddit.com/r/masterduel/comments/13ik7v1/dkayed\\_banned\\_from\\_tcgpaper\\_for\\_leaks/\n",
            "============================\n",
            "Today I was given notice of being suspended from TCG(paper yugioh), which I haven't played in 9+ years, for educated guesses(leaking) on Master Duel upcoming cards.\n",
            "  \n",
            "Next leak will be Sunday, May 21st, on https://twitch.tv/dkayed or maybe a youtube video before then on https://youtube.com/@dkayed\n",
            "============================\n",
            "everyone knows my leaks are just educated guesses\n",
            "============================\n",
            "I have no idea how to even check. Do I try to enter a random yugioh locals to find out?\n"
          ]
        }
      ]
    },
    {
      "cell_type": "markdown",
      "metadata": {
        "id": "2cRF4RFpX0Ky"
      },
      "source": [
        "Querying reddit for information"
      ]
    },
    {
      "cell_type": "code",
      "execution_count": null,
      "metadata": {
        "id": "ebbo6RabX0K4"
      },
      "outputs": [],
      "source": [
        "# get subreddit description\n",
        "mysub=reddit.subreddit('Malaysia')\n",
        "print(mysub.description)\n",
        "# print(mysub.)"
      ]
    },
    {
      "cell_type": "code",
      "execution_count": 23,
      "metadata": {
        "id": "tNRXStU8X0Kz",
        "colab": {
          "base_uri": "https://localhost:8080/"
        },
        "outputId": "53840144-259e-43af-ac64-1def13f46b47"
      },
      "outputs": [
        {
          "output_type": "stream",
          "name": "stdout",
          "text": [
            "/r/malaysia daily random discussion and quick questions thread for 01 June 2023\n",
            "SPM 2022 Results Megathread\n",
            "2023 and things like this still happens in Malaysia\n",
            "Mt. Everest guide Gelji Sherpa carrying a rescued Malaysian climber stranded at 27657 ft. (8430 m.)\n",
            "Kit Siang: If I'm 'anti-Islam' for criticising Hadi, then so must be Saudi for putting him on terror list\n"
          ]
        }
      ],
      "source": [
        "# get 10 \"HOT\" posts from the subreddit\n",
        "hot_posts_in_MY = reddit.subreddit('Malaysia').hot(limit=5)\n",
        "\n",
        "for p in hot_posts_in_MY:\n",
        "  print(p.title)\n"
      ]
    },
    {
      "cell_type": "markdown",
      "metadata": {
        "id": "ln64z9gAX0K5"
      },
      "source": [
        "Due to rate limitations and query limits, save your data to file"
      ]
    },
    {
      "cell_type": "code",
      "execution_count": 26,
      "metadata": {
        "id": "87qZOHyHX0K5",
        "colab": {
          "base_uri": "https://localhost:8080/",
          "height": 363
        },
        "outputId": "46dc3390-9ecc-489e-e9cb-ad37a97de035"
      },
      "outputs": [
        {
          "output_type": "execute_result",
          "data": {
            "text/plain": [
              "                                               Title       ID  Score  \\\n",
              "0                                        Splashmania  13xeggc      1   \n",
              "1  When you are jamming on lagu raya but dont spe...  13xecu6      2   \n",
              "2  Tze Yong mengejutkan pilihan utama yang juga p...  13xe3wf      2   \n",
              "3  Now, Hadi says offer for PAS to join Anwar gov...  13xduzk      1   \n",
              "4  Found this in the luggage of the owner of the ...  13xdupp      1   \n",
              "5                                  Shopee or Lazada?  13xdsr0      0   \n",
              "6  New conditions for developers soon to ensure a...  13xdre5      1   \n",
              "7  Permohonan RM8 bilion selesai isu air Kelantan...  13xdd6c      1   \n",
              "8               Panasonic denies plants to shut down  13xdaxd      2   \n",
              "9  What is this? Is this a silver fish or a so ca...  13xd2zi      7   \n",
              "\n",
              "  Subreddit                                                URL  \\\n",
              "0  malaysia  https://www.reddit.com/r/malaysia/comments/13x...   \n",
              "1  malaysia                    https://v.redd.it/q776mwc9ic3b1   \n",
              "2  malaysia                    https://v.redd.it/4japy9y7xd3b1   \n",
              "3  malaysia  https://www.malaymail.com/news/malaysia/2023/0...   \n",
              "4  malaysia                https://i.redd.it/nebwugwmud3b1.jpg   \n",
              "5  malaysia  https://www.reddit.com/r/malaysia/comments/13x...   \n",
              "6  malaysia  https://www.freemalaysiatoday.com/category/nat...   \n",
              "7  malaysia  https://www.freemalaysiatoday.com/category/bah...   \n",
              "8  malaysia  https://www.freemalaysiatoday.com/category/nat...   \n",
              "9  malaysia                https://i.redd.it/csiv9zvkmd3b1.jpg   \n",
              "\n",
              "   Number of Comments                                               Text  \n",
              "0                   0  Has anyone been to Splashmania? If so, how was...  \n",
              "1                   0                                                     \n",
              "2                   0                                                     \n",
              "3                   0                                                     \n",
              "4                   0  Never encounter this book before since my chil...  \n",
              "5                   1                      Which do you prefer? And why?  \n",
              "6                   0                                                     \n",
              "7                   0                                                     \n",
              "8                   0                                                     \n",
              "9                   1                                                     "
            ],
            "text/html": [
              "\n",
              "  <div id=\"df-64f5cdd2-bc7c-41b1-a098-e56bfbc6c96a\">\n",
              "    <div class=\"colab-df-container\">\n",
              "      <div>\n",
              "<style scoped>\n",
              "    .dataframe tbody tr th:only-of-type {\n",
              "        vertical-align: middle;\n",
              "    }\n",
              "\n",
              "    .dataframe tbody tr th {\n",
              "        vertical-align: top;\n",
              "    }\n",
              "\n",
              "    .dataframe thead th {\n",
              "        text-align: right;\n",
              "    }\n",
              "</style>\n",
              "<table border=\"1\" class=\"dataframe\">\n",
              "  <thead>\n",
              "    <tr style=\"text-align: right;\">\n",
              "      <th></th>\n",
              "      <th>Title</th>\n",
              "      <th>ID</th>\n",
              "      <th>Score</th>\n",
              "      <th>Subreddit</th>\n",
              "      <th>URL</th>\n",
              "      <th>Number of Comments</th>\n",
              "      <th>Text</th>\n",
              "    </tr>\n",
              "  </thead>\n",
              "  <tbody>\n",
              "    <tr>\n",
              "      <th>0</th>\n",
              "      <td>Splashmania</td>\n",
              "      <td>13xeggc</td>\n",
              "      <td>1</td>\n",
              "      <td>malaysia</td>\n",
              "      <td>https://www.reddit.com/r/malaysia/comments/13x...</td>\n",
              "      <td>0</td>\n",
              "      <td>Has anyone been to Splashmania? If so, how was...</td>\n",
              "    </tr>\n",
              "    <tr>\n",
              "      <th>1</th>\n",
              "      <td>When you are jamming on lagu raya but dont spe...</td>\n",
              "      <td>13xecu6</td>\n",
              "      <td>2</td>\n",
              "      <td>malaysia</td>\n",
              "      <td>https://v.redd.it/q776mwc9ic3b1</td>\n",
              "      <td>0</td>\n",
              "      <td></td>\n",
              "    </tr>\n",
              "    <tr>\n",
              "      <th>2</th>\n",
              "      <td>Tze Yong mengejutkan pilihan utama yang juga p...</td>\n",
              "      <td>13xe3wf</td>\n",
              "      <td>2</td>\n",
              "      <td>malaysia</td>\n",
              "      <td>https://v.redd.it/4japy9y7xd3b1</td>\n",
              "      <td>0</td>\n",
              "      <td></td>\n",
              "    </tr>\n",
              "    <tr>\n",
              "      <th>3</th>\n",
              "      <td>Now, Hadi says offer for PAS to join Anwar gov...</td>\n",
              "      <td>13xduzk</td>\n",
              "      <td>1</td>\n",
              "      <td>malaysia</td>\n",
              "      <td>https://www.malaymail.com/news/malaysia/2023/0...</td>\n",
              "      <td>0</td>\n",
              "      <td></td>\n",
              "    </tr>\n",
              "    <tr>\n",
              "      <th>4</th>\n",
              "      <td>Found this in the luggage of the owner of the ...</td>\n",
              "      <td>13xdupp</td>\n",
              "      <td>1</td>\n",
              "      <td>malaysia</td>\n",
              "      <td>https://i.redd.it/nebwugwmud3b1.jpg</td>\n",
              "      <td>0</td>\n",
              "      <td>Never encounter this book before since my chil...</td>\n",
              "    </tr>\n",
              "    <tr>\n",
              "      <th>5</th>\n",
              "      <td>Shopee or Lazada?</td>\n",
              "      <td>13xdsr0</td>\n",
              "      <td>0</td>\n",
              "      <td>malaysia</td>\n",
              "      <td>https://www.reddit.com/r/malaysia/comments/13x...</td>\n",
              "      <td>1</td>\n",
              "      <td>Which do you prefer? And why?</td>\n",
              "    </tr>\n",
              "    <tr>\n",
              "      <th>6</th>\n",
              "      <td>New conditions for developers soon to ensure a...</td>\n",
              "      <td>13xdre5</td>\n",
              "      <td>1</td>\n",
              "      <td>malaysia</td>\n",
              "      <td>https://www.freemalaysiatoday.com/category/nat...</td>\n",
              "      <td>0</td>\n",
              "      <td></td>\n",
              "    </tr>\n",
              "    <tr>\n",
              "      <th>7</th>\n",
              "      <td>Permohonan RM8 bilion selesai isu air Kelantan...</td>\n",
              "      <td>13xdd6c</td>\n",
              "      <td>1</td>\n",
              "      <td>malaysia</td>\n",
              "      <td>https://www.freemalaysiatoday.com/category/bah...</td>\n",
              "      <td>0</td>\n",
              "      <td></td>\n",
              "    </tr>\n",
              "    <tr>\n",
              "      <th>8</th>\n",
              "      <td>Panasonic denies plants to shut down</td>\n",
              "      <td>13xdaxd</td>\n",
              "      <td>2</td>\n",
              "      <td>malaysia</td>\n",
              "      <td>https://www.freemalaysiatoday.com/category/nat...</td>\n",
              "      <td>0</td>\n",
              "      <td></td>\n",
              "    </tr>\n",
              "    <tr>\n",
              "      <th>9</th>\n",
              "      <td>What is this? Is this a silver fish or a so ca...</td>\n",
              "      <td>13xd2zi</td>\n",
              "      <td>7</td>\n",
              "      <td>malaysia</td>\n",
              "      <td>https://i.redd.it/csiv9zvkmd3b1.jpg</td>\n",
              "      <td>1</td>\n",
              "      <td></td>\n",
              "    </tr>\n",
              "  </tbody>\n",
              "</table>\n",
              "</div>\n",
              "      <button class=\"colab-df-convert\" onclick=\"convertToInteractive('df-64f5cdd2-bc7c-41b1-a098-e56bfbc6c96a')\"\n",
              "              title=\"Convert this dataframe to an interactive table.\"\n",
              "              style=\"display:none;\">\n",
              "        \n",
              "  <svg xmlns=\"http://www.w3.org/2000/svg\" height=\"24px\"viewBox=\"0 0 24 24\"\n",
              "       width=\"24px\">\n",
              "    <path d=\"M0 0h24v24H0V0z\" fill=\"none\"/>\n",
              "    <path d=\"M18.56 5.44l.94 2.06.94-2.06 2.06-.94-2.06-.94-.94-2.06-.94 2.06-2.06.94zm-11 1L8.5 8.5l.94-2.06 2.06-.94-2.06-.94L8.5 2.5l-.94 2.06-2.06.94zm10 10l.94 2.06.94-2.06 2.06-.94-2.06-.94-.94-2.06-.94 2.06-2.06.94z\"/><path d=\"M17.41 7.96l-1.37-1.37c-.4-.4-.92-.59-1.43-.59-.52 0-1.04.2-1.43.59L10.3 9.45l-7.72 7.72c-.78.78-.78 2.05 0 2.83L4 21.41c.39.39.9.59 1.41.59.51 0 1.02-.2 1.41-.59l7.78-7.78 2.81-2.81c.8-.78.8-2.07 0-2.86zM5.41 20L4 18.59l7.72-7.72 1.47 1.35L5.41 20z\"/>\n",
              "  </svg>\n",
              "      </button>\n",
              "      \n",
              "  <style>\n",
              "    .colab-df-container {\n",
              "      display:flex;\n",
              "      flex-wrap:wrap;\n",
              "      gap: 12px;\n",
              "    }\n",
              "\n",
              "    .colab-df-convert {\n",
              "      background-color: #E8F0FE;\n",
              "      border: none;\n",
              "      border-radius: 50%;\n",
              "      cursor: pointer;\n",
              "      display: none;\n",
              "      fill: #1967D2;\n",
              "      height: 32px;\n",
              "      padding: 0 0 0 0;\n",
              "      width: 32px;\n",
              "    }\n",
              "\n",
              "    .colab-df-convert:hover {\n",
              "      background-color: #E2EBFA;\n",
              "      box-shadow: 0px 1px 2px rgba(60, 64, 67, 0.3), 0px 1px 3px 1px rgba(60, 64, 67, 0.15);\n",
              "      fill: #174EA6;\n",
              "    }\n",
              "\n",
              "    [theme=dark] .colab-df-convert {\n",
              "      background-color: #3B4455;\n",
              "      fill: #D2E3FC;\n",
              "    }\n",
              "\n",
              "    [theme=dark] .colab-df-convert:hover {\n",
              "      background-color: #434B5C;\n",
              "      box-shadow: 0px 1px 3px 1px rgba(0, 0, 0, 0.15);\n",
              "      filter: drop-shadow(0px 1px 2px rgba(0, 0, 0, 0.3));\n",
              "      fill: #FFFFFF;\n",
              "    }\n",
              "  </style>\n",
              "\n",
              "      <script>\n",
              "        const buttonEl =\n",
              "          document.querySelector('#df-64f5cdd2-bc7c-41b1-a098-e56bfbc6c96a button.colab-df-convert');\n",
              "        buttonEl.style.display =\n",
              "          google.colab.kernel.accessAllowed ? 'block' : 'none';\n",
              "\n",
              "        async function convertToInteractive(key) {\n",
              "          const element = document.querySelector('#df-64f5cdd2-bc7c-41b1-a098-e56bfbc6c96a');\n",
              "          const dataTable =\n",
              "            await google.colab.kernel.invokeFunction('convertToInteractive',\n",
              "                                                     [key], {});\n",
              "          if (!dataTable) return;\n",
              "\n",
              "          const docLinkHtml = 'Like what you see? Visit the ' +\n",
              "            '<a target=\"_blank\" href=https://colab.research.google.com/notebooks/data_table.ipynb>data table notebook</a>'\n",
              "            + ' to learn more about interactive tables.';\n",
              "          element.innerHTML = '';\n",
              "          dataTable['output_type'] = 'display_data';\n",
              "          await google.colab.output.renderOutput(dataTable, element);\n",
              "          const docLink = document.createElement('div');\n",
              "          docLink.innerHTML = docLinkHtml;\n",
              "          element.appendChild(docLink);\n",
              "        }\n",
              "      </script>\n",
              "    </div>\n",
              "  </div>\n",
              "  "
            ]
          },
          "metadata": {},
          "execution_count": 26
        }
      ],
      "source": [
        "import pandas as pd\n",
        "\n",
        "posts=[]\n",
        "mysub=reddit.subreddit('Malaysia')\n",
        "\n",
        "for p in mysub.new(limit=10):\n",
        "  posts.append([p.title,p.id,p.score,p.subreddit,\n",
        "                p.url,p.num_comments,p.selftext])\n",
        "  \n",
        "myDF=pd.DataFrame(posts,columns=['Title','ID','Score','Subreddit','URL','Number of Comments','Text'])\n",
        "\n",
        "myDF"
      ]
    },
    {
      "cell_type": "code",
      "source": [
        "myDF.to_csv('myDF.csv')"
      ],
      "metadata": {
        "id": "bGbrfUTPnVQa"
      },
      "execution_count": 27,
      "outputs": []
    },
    {
      "cell_type": "code",
      "execution_count": null,
      "metadata": {
        "id": "NGjsKVSCX0K6"
      },
      "outputs": [],
      "source": [
        "posts.to_csv('top_ml_subreddit_posts.csv')"
      ]
    }
  ],
  "metadata": {
    "kernelspec": {
      "display_name": "Python 3",
      "language": "python",
      "name": "python3"
    },
    "language_info": {
      "codemirror_mode": {
        "name": "ipython",
        "version": 3
      },
      "file_extension": ".py",
      "mimetype": "text/x-python",
      "name": "python",
      "nbconvert_exporter": "python",
      "pygments_lexer": "ipython3",
      "version": "3.7.4"
    },
    "colab": {
      "provenance": [],
      "include_colab_link": true
    }
  },
  "nbformat": 4,
  "nbformat_minor": 0
}